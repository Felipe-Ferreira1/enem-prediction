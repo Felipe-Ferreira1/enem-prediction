{
 "cells": [
  {
   "cell_type": "code",
   "execution_count": 2,
   "metadata": {},
   "outputs": [],
   "source": [
    "import pandas as pd\n",
    "import numpy as np\n",
    "\n",
    "pd.set_option('display.max_rows', 500)\n",
    "pd.set_option('display.max_columns', 500)\n",
    "pd.set_option('display.width', 1000)\n",
    "\n",
    "train = pd.read_csv('train.csv', sep =',')\n",
    "test = pd.read_csv('test.csv', sep =',')"
   ]
  },
  {
   "cell_type": "code",
   "execution_count": 3,
   "metadata": {},
   "outputs": [
    {
     "data": {
      "text/plain": [
       "Index(['NU_INSCRICAO', 'CO_UF_RESIDENCIA', 'SG_UF_RESIDENCIA', 'NU_IDADE', 'TP_SEXO', 'TP_COR_RACA', 'TP_NACIONALIDADE', 'TP_ST_CONCLUSAO', 'TP_ANO_CONCLUIU', 'TP_ESCOLA', 'TP_ENSINO', 'IN_TREINEIRO', 'TP_DEPENDENCIA_ADM_ESC', 'IN_BAIXA_VISAO', 'IN_CEGUEIRA', 'IN_SURDEZ', 'IN_DISLEXIA', 'IN_DISCALCULIA', 'IN_SABATISTA', 'IN_GESTANTE', 'IN_IDOSO', 'TP_PRESENCA_CN', 'TP_PRESENCA_CH', 'TP_PRESENCA_LC', 'CO_PROVA_CN', 'CO_PROVA_CH', 'CO_PROVA_LC', 'CO_PROVA_MT', 'NU_NOTA_CN', 'NU_NOTA_CH', 'NU_NOTA_LC', 'TP_LINGUA', 'TP_STATUS_REDACAO', 'NU_NOTA_COMP1', 'NU_NOTA_COMP2', 'NU_NOTA_COMP3', 'NU_NOTA_COMP4', 'NU_NOTA_COMP5', 'NU_NOTA_REDACAO', 'Q001', 'Q002', 'Q006', 'Q024', 'Q025', 'Q026', 'Q027', 'Q047'], dtype='object')"
      ]
     },
     "execution_count": 3,
     "metadata": {},
     "output_type": "execute_result"
    }
   ],
   "source": [
    "test.columns"
   ]
  },
  {
   "cell_type": "markdown",
   "metadata": {},
   "source": [
    "As we can see above, the test dataset has fewer columns than the train dataset, so we will use only the columns common in both and the column NU_NOTA_MT."
   ]
  },
  {
   "cell_type": "code",
   "execution_count": 4,
   "metadata": {},
   "outputs": [
    {
     "data": {
      "text/plain": [
       "((13730, 48), (4576, 47))"
      ]
     },
     "execution_count": 4,
     "metadata": {},
     "output_type": "execute_result"
    }
   ],
   "source": [
    "cols = list(set(train.columns).intersection(set(test.columns)))\n",
    "cols.append('NU_NOTA_MT')\n",
    "train_copy = train[cols].copy()\n",
    "train_copy.shape, test.shape"
   ]
  },
  {
   "cell_type": "code",
   "execution_count": 13,
   "metadata": {},
   "outputs": [
    {
     "name": "stdout",
     "output_type": "stream",
     "text": [
      "<class 'pandas.core.frame.DataFrame'>\n",
      "RangeIndex: 13730 entries, 0 to 13729\n",
      "Data columns (total 48 columns):\n",
      "NU_NOTA_CN                10341 non-null float64\n",
      "IN_IDOSO                  13730 non-null int64\n",
      "Q026                      13730 non-null object\n",
      "Q027                      6357 non-null object\n",
      "TP_STATUS_REDACAO         10133 non-null float64\n",
      "IN_CEGUEIRA               13730 non-null int64\n",
      "Q006                      13730 non-null object\n",
      "CO_PROVA_MT               13730 non-null object\n",
      "NU_NOTA_LC                10133 non-null float64\n",
      "NU_NOTA_COMP1             10133 non-null float64\n",
      "Q002                      13730 non-null object\n",
      "NU_NOTA_COMP2             10133 non-null float64\n",
      "CO_PROVA_CN               13730 non-null object\n",
      "TP_LINGUA                 13730 non-null int64\n",
      "IN_DISCALCULIA            13730 non-null int64\n",
      "SG_UF_RESIDENCIA          13730 non-null object\n",
      "TP_SEXO                   13730 non-null object\n",
      "TP_PRESENCA_LC            13730 non-null int64\n",
      "NU_NOTA_COMP3             10133 non-null float64\n",
      "Q047                      13730 non-null object\n",
      "NU_NOTA_CH                10341 non-null float64\n",
      "TP_ENSINO                 4282 non-null float64\n",
      "Q001                      13730 non-null object\n",
      "TP_ESCOLA                 13730 non-null int64\n",
      "CO_UF_RESIDENCIA          13730 non-null int64\n",
      "IN_TREINEIRO              13730 non-null int64\n",
      "NU_INSCRICAO              13730 non-null object\n",
      "TP_NACIONALIDADE          13730 non-null int64\n",
      "TP_DEPENDENCIA_ADM_ESC    4282 non-null float64\n",
      "NU_NOTA_COMP4             10133 non-null float64\n",
      "Q025                      13730 non-null object\n",
      "TP_COR_RACA               13730 non-null int64\n",
      "IN_SURDEZ                 13730 non-null int64\n",
      "TP_PRESENCA_CN            13730 non-null int64\n",
      "CO_PROVA_LC               13730 non-null object\n",
      "NU_NOTA_COMP5             10133 non-null float64\n",
      "TP_PRESENCA_CH            13730 non-null int64\n",
      "TP_ST_CONCLUSAO           13730 non-null int64\n",
      "NU_NOTA_REDACAO           10133 non-null float64\n",
      "IN_DISLEXIA               13730 non-null int64\n",
      "IN_SABATISTA              13730 non-null int64\n",
      "IN_BAIXA_VISAO            13730 non-null int64\n",
      "TP_ANO_CONCLUIU           13730 non-null int64\n",
      "IN_GESTANTE               13730 non-null int64\n",
      "Q024                      13730 non-null object\n",
      "NU_IDADE                  13730 non-null int64\n",
      "CO_PROVA_CH               13730 non-null object\n",
      "NU_NOTA_MT                10133 non-null float64\n",
      "dtypes: float64(13), int64(20), object(15)\n",
      "memory usage: 5.0+ MB\n"
     ]
    }
   ],
   "source": [
    "train_copy.info()"
   ]
  },
  {
   "cell_type": "markdown",
   "metadata": {},
   "source": [
    "From above, we will initially drop columns *Q027*, *TP_DEPENDENCIA_ADM_ESC*, AND *TP_ENSINO* because we think other columns encode necessary information to deal with this absence, but we will try to use it later in our model."
   ]
  },
  {
   "cell_type": "code",
   "execution_count": 16,
   "metadata": {},
   "outputs": [],
   "source": [
    "train_copy = train_copy.drop(['Q027', 'TP_DEPENDENCIA_ADM_ESC', 'TP_ENSINO'], axis = 1)\n",
    "test = test.drop(['Q027', 'TP_DEPENDENCIA_ADM_ESC', 'TP_ENSINO'], axis = 1)"
   ]
  },
  {
   "cell_type": "markdown",
   "metadata": {},
   "source": [
    "Now, we are going to drop row with null values for the days the students were not present at the exam. We infer that since they did not participate, we cannot give it a zero value, as this would underestimate their grades."
   ]
  },
  {
   "cell_type": "code",
   "execution_count": 28,
   "metadata": {},
   "outputs": [],
   "source": [
    "train_copy = train_copy.fillna(value=0)\n",
    "test = test.fillna(value=0)"
   ]
  },
  {
   "cell_type": "markdown",
   "metadata": {},
   "source": [
    "To finish, we will remove all columns beginning with CO, because they contain only information about the exam's code for management purposes."
   ]
  },
  {
   "cell_type": "code",
   "execution_count": 34,
   "metadata": {},
   "outputs": [],
   "source": [
    "train_copy = train_copy.drop(['CO_PROVA_CH', 'CO_PROVA_LC', 'CO_PROVA_CN', 'CO_PROVA_MT', \n",
    "                 'SG_UF_RESIDENCIA'], axis = 1)\n",
    "test = test.drop(['CO_PROVA_CH', 'CO_PROVA_LC', 'CO_PROVA_CN', 'CO_PROVA_MT', \n",
    "                 'SG_UF_RESIDENCIA'], axis = 1)"
   ]
  },
  {
   "cell_type": "code",
   "execution_count": 35,
   "metadata": {},
   "outputs": [
    {
     "data": {
      "text/plain": [
       "((13730, 40), (4576, 39))"
      ]
     },
     "execution_count": 35,
     "metadata": {},
     "output_type": "execute_result"
    }
   ],
   "source": [
    "train_copy.shape, test.shape"
   ]
  },
  {
   "cell_type": "code",
   "execution_count": 37,
   "metadata": {},
   "outputs": [],
   "source": [
    "train_copy.to_csv('train_zero.csv', sep=',')\n",
    "test.to_csv('test_zero.csv', sep=',')"
   ]
  }
 ],
 "metadata": {
  "kernelspec": {
   "display_name": "Python 3",
   "language": "python",
   "name": "python3"
  },
  "language_info": {
   "codemirror_mode": {
    "name": "ipython",
    "version": 3
   },
   "file_extension": ".py",
   "mimetype": "text/x-python",
   "name": "python",
   "nbconvert_exporter": "python",
   "pygments_lexer": "ipython3",
   "version": "3.6.5"
  }
 },
 "nbformat": 4,
 "nbformat_minor": 2
}
